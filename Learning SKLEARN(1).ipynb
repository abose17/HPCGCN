{
 "cells": [
  {
   "cell_type": "code",
   "execution_count": 42,
   "metadata": {},
   "outputs": [],
   "source": [
    "# Welcome to Huichen's code broken down to understand how to use different functions in SKLEARN\n",
    "# the documentation for sk learn can be found at this link. http://scikit-learn.org/stable/documentation.html\n"
   ]
  },
  {
   "cell_type": "code",
   "execution_count": 1,
   "metadata": {},
   "outputs": [],
   "source": [
    "# First step is to import some packages. \n",
    "# Pandas will be used to read and manipulate the data in the CSV file\n",
    "# numpy is required to compute math\n",
    "# matplotlib is required to be able to graph our results\n",
    "# time will be used to calculate the amount of time it takes to run cells. \n",
    "# the documentation for these libraries can be found online \n",
    "\n",
    "import pandas as pd\n",
    "import numpy as np\n",
    "import matplotlib.pyplot as plt\n",
    "import time\n"
   ]
  },
  {
   "cell_type": "code",
   "execution_count": 44,
   "metadata": {},
   "outputs": [
    {
     "name": "stdout",
     "output_type": "stream",
     "text": [
      "Wall time: 2min 18s\n"
     ]
    }
   ],
   "source": [
    "%%time\n",
    "df = pd.read_csv('16mInfo+reqTM.csv')\n",
    "\n",
    "# the first line in this cell is \"magic\" that is only used in jupyter notebooks. It will print the CPU and Wall times for the cell\n",
    "# the second line in this cell is the pandas command for reading the CSV file into a dataframe.\n",
    "\n",
    "\n",
    "# from this moment on the data is stored in a Pandas DataFrame Object. This object is very powerful as you can apply\n",
    "# many different functions that would normally require a database. The full documentation for Pandas can be found\n",
    "# https://pandas.pydata.org/pandas-docs/stable/\n",
    "\n"
   ]
  },
  {
   "cell_type": "code",
   "execution_count": 45,
   "metadata": {},
   "outputs": [
    {
     "data": {
      "text/plain": [
       "(16000001, 51)"
      ]
     },
     "execution_count": 45,
     "metadata": {},
     "output_type": "execute_result"
    }
   ],
   "source": [
    "# print out the shape of the dataframe, this is done to confirm the CSV was loaded properly. Format (row, col)\n",
    "\n",
    "df.shape\n",
    "\n"
   ]
  },
  {
   "cell_type": "code",
   "execution_count": 46,
   "metadata": {},
   "outputs": [
    {
     "data": {
      "text/plain": [
       "(15985764, 51)"
      ]
     },
     "execution_count": 46,
     "metadata": {},
     "output_type": "execute_result"
    }
   ],
   "source": [
    "# filter the users whose submission jobs are less than 200 \n",
    "# this is first done by using the groupby function on the dataframe and setting that equal to another variable\n",
    "# then the filter function is run.\n",
    "gd = df.groupby('owner')\n",
    "t1 = gd.filter(lambda x : len(x) > 200)\n",
    "t1.shape"
   ]
  },
  {
   "cell_type": "code",
   "execution_count": 47,
   "metadata": {},
   "outputs": [
    {
     "data": {
      "text/plain": [
       "(15964540, 51)"
      ]
     },
     "execution_count": 47,
     "metadata": {},
     "output_type": "execute_result"
    }
   ],
   "source": [
    "# drop NAN values, what this means is that we want to drop all NULL values which are represented as NaN in Python\n",
    "t2 = t1.dropna()\n",
    "t2.shape"
   ]
  },
  {
   "cell_type": "code",
   "execution_count": 48,
   "metadata": {},
   "outputs": [],
   "source": [
    "# reduce columns, here Huichen decided to use only 9 (columns), these are the columns that will be used in regression and classification\n",
    "\n",
    "temp = t2[['owner', 'failed', 'project', 'cpu', 'maxvmem', 'reqTime', 'reqMem', 'people','mem']]"
   ]
  },
  {
   "cell_type": "code",
   "execution_count": 49,
   "metadata": {},
   "outputs": [
    {
     "name": "stdout",
     "output_type": "stream",
     "text": [
      "Wall time: 1.38 s\n"
     ]
    }
   ],
   "source": [
    "%%time\n",
    "# average usage of cpu , maxvmem, requested time, requested memory for each user. Basically what we are creating here is\n",
    "# another dataframe with aggregations (in this case we are calculating the mean accross all rows for the given columns)\n",
    "average = temp.groupby('owner', as_index=False)['cpu','maxvmem','reqTime','reqMem','mem'].mean()\n",
    "\n"
   ]
  },
  {
   "cell_type": "code",
   "execution_count": 50,
   "metadata": {},
   "outputs": [],
   "source": [
    "# rename column name, this is done so we can easily access the columns with new names. Huichen decided to put 'a' infront\n",
    "# this means that they are averages or aggregates.\n",
    "average.columns = ['owner','aCPU','aMaxvmem','aReqtime','aReqmem','aMem']"
   ]
  },
  {
   "cell_type": "code",
   "execution_count": 51,
   "metadata": {},
   "outputs": [
    {
     "data": {
      "text/plain": [
       "Index(['owner', 'failed', 'project', 'cpu', 'maxvmem', 'reqTime', 'reqMem',\n",
       "       'people', 'mem', 'aCPU', 'aMaxvmem', 'aReqtime', 'aReqmem', 'aMem'],\n",
       "      dtype='object')"
      ]
     },
     "execution_count": 51,
     "metadata": {},
     "output_type": "execute_result"
    }
   ],
   "source": [
    "# this is similar to a inner join in SQL on the column 'owner'. Since both temp and average have a columnt 'owner' this\n",
    "# is easily done\n",
    "\n",
    "t3 = pd.merge(temp, average, on=['owner'])\n",
    "t3.columns"
   ]
  },
  {
   "cell_type": "code",
   "execution_count": 52,
   "metadata": {},
   "outputs": [],
   "source": [
    "# now, our original dataset has over 16 million rows. This would take too long to run various algorithms on so we will\n",
    "# instead use a sample of 1 million.\n",
    "\n",
    "\n",
    "newdf = t3.sample(n=1000001)"
   ]
  },
  {
   "cell_type": "code",
   "execution_count": 53,
   "metadata": {},
   "outputs": [
    {
     "data": {
      "text/plain": [
       "(1000001, 14)"
      ]
     },
     "execution_count": 53,
     "metadata": {},
     "output_type": "execute_result"
    }
   ],
   "source": [
    "newdf.shape"
   ]
  },
  {
   "cell_type": "code",
   "execution_count": 54,
   "metadata": {},
   "outputs": [],
   "source": [
    "# change value of attribute failed to binary. This is important to do since we are wanting to predict this feature.\n",
    "# making it a binary type makes it a usable dependent variable for many of the algorithms we will run later. \n",
    "newdf['failed'] = (newdf['failed'] > 0).astype(int)"
   ]
  },
  {
   "cell_type": "code",
   "execution_count": 55,
   "metadata": {},
   "outputs": [],
   "source": [
    "# add unique columns as features, id by owner, project_id by project(similar with department), this is a new way to \n",
    "# identify the columns, by assigining them a number. The get_dummies \"convert categorical variable into dummy/indicator variables\"\n",
    "# the documentation along with some examples of what this function does can be found on\n",
    "# https://pandas.pydata.org/pandas-docs/stable/generated/pandas.get_dummies.html\n",
    "newdf['id'] = pd.factorize(newdf.owner)[0]\n",
    "newdf['project_id'] = pd.factorize(newdf.project)[0]\n",
    "newdf = pd.get_dummies(newdf, columns=['people'])"
   ]
  },
  {
   "cell_type": "code",
   "execution_count": 56,
   "metadata": {},
   "outputs": [
    {
     "data": {
      "text/plain": [
       "Index(['owner', 'failed', 'project', 'cpu', 'maxvmem', 'reqTime', 'reqMem',\n",
       "       'mem', 'aCPU', 'aMaxvmem', 'aReqtime', 'aReqmem', 'aMem', 'id',\n",
       "       'project_id', 'people_Faculty', 'people_Graduate',\n",
       "       'people_PostDoctoralResearcher', 'people_ResearchAssociate',\n",
       "       'people_Staff', 'people_Undergraduate', 'people_Unknowing'],\n",
       "      dtype='object')"
      ]
     },
     "execution_count": 56,
     "metadata": {},
     "output_type": "execute_result"
    }
   ],
   "source": [
    "newdf.columns"
   ]
  },
  {
   "cell_type": "code",
   "execution_count": 57,
   "metadata": {},
   "outputs": [
    {
     "data": {
      "text/plain": [
       "Index(['failed', 'cpu', 'maxvmem', 'reqTime', 'reqMem', 'mem', 'aCPU',\n",
       "       'aMaxvmem', 'aReqtime', 'aReqmem', 'aMem', 'id', 'project_id',\n",
       "       'people_Faculty', 'people_Graduate', 'people_PostDoctoralResearcher',\n",
       "       'people_ResearchAssociate', 'people_Staff', 'people_Undergraduate',\n",
       "       'people_Unknowing'],\n",
       "      dtype='object')"
      ]
     },
     "execution_count": 57,
     "metadata": {},
     "output_type": "execute_result"
    }
   ],
   "source": [
    "# we are going to drop owner and project the columns (this is why we have axis set to 1)\n",
    "# the documentation on how to use pandas drop can be found on\n",
    "# https://pandas.pydata.org/pandas-docs/stable/generated/pandas.DataFrame.drop.html\n",
    "# axis : {0 or ‘index’, 1 or ‘columns’}, default 0\n",
    "fdf = newdf.drop(['owner','project'], axis=1)\n",
    "fdf.columns"
   ]
  },
  {
   "cell_type": "code",
   "execution_count": 58,
   "metadata": {},
   "outputs": [
    {
     "data": {
      "text/html": [
       "<div>\n",
       "<style scoped>\n",
       "    .dataframe tbody tr th:only-of-type {\n",
       "        vertical-align: middle;\n",
       "    }\n",
       "\n",
       "    .dataframe tbody tr th {\n",
       "        vertical-align: top;\n",
       "    }\n",
       "\n",
       "    .dataframe thead th {\n",
       "        text-align: right;\n",
       "    }\n",
       "</style>\n",
       "<table border=\"1\" class=\"dataframe\">\n",
       "  <thead>\n",
       "    <tr style=\"text-align: right;\">\n",
       "      <th></th>\n",
       "      <th>failed</th>\n",
       "      <th>cpu</th>\n",
       "      <th>maxvmem</th>\n",
       "      <th>reqTime</th>\n",
       "      <th>reqMem</th>\n",
       "      <th>mem</th>\n",
       "      <th>aCPU</th>\n",
       "      <th>aMaxvmem</th>\n",
       "      <th>aReqtime</th>\n",
       "      <th>aReqmem</th>\n",
       "      <th>aMem</th>\n",
       "      <th>id</th>\n",
       "      <th>project_id</th>\n",
       "      <th>people_Faculty</th>\n",
       "      <th>people_Graduate</th>\n",
       "      <th>people_PostDoctoralResearcher</th>\n",
       "      <th>people_ResearchAssociate</th>\n",
       "      <th>people_Staff</th>\n",
       "      <th>people_Undergraduate</th>\n",
       "      <th>people_Unknowing</th>\n",
       "    </tr>\n",
       "  </thead>\n",
       "  <tbody>\n",
       "    <tr>\n",
       "      <th>6380784</th>\n",
       "      <td>0</td>\n",
       "      <td>72.50</td>\n",
       "      <td>1.508639e+08</td>\n",
       "      <td>7200.0</td>\n",
       "      <td>1.0</td>\n",
       "      <td>8.675896</td>\n",
       "      <td>761.349945</td>\n",
       "      <td>2.033148e+08</td>\n",
       "      <td>8128.816356</td>\n",
       "      <td>1.339869</td>\n",
       "      <td>3.130181e+03</td>\n",
       "      <td>0</td>\n",
       "      <td>0</td>\n",
       "      <td>0</td>\n",
       "      <td>0</td>\n",
       "      <td>0</td>\n",
       "      <td>0</td>\n",
       "      <td>0</td>\n",
       "      <td>0</td>\n",
       "      <td>1</td>\n",
       "    </tr>\n",
       "    <tr>\n",
       "      <th>1122535</th>\n",
       "      <td>0</td>\n",
       "      <td>186.02</td>\n",
       "      <td>2.637828e+09</td>\n",
       "      <td>10800.0</td>\n",
       "      <td>1.0</td>\n",
       "      <td>43.929626</td>\n",
       "      <td>1585.170160</td>\n",
       "      <td>3.451968e+09</td>\n",
       "      <td>38385.321212</td>\n",
       "      <td>1.001895</td>\n",
       "      <td>2.674659e+03</td>\n",
       "      <td>1</td>\n",
       "      <td>1</td>\n",
       "      <td>0</td>\n",
       "      <td>1</td>\n",
       "      <td>0</td>\n",
       "      <td>0</td>\n",
       "      <td>0</td>\n",
       "      <td>0</td>\n",
       "      <td>0</td>\n",
       "    </tr>\n",
       "    <tr>\n",
       "      <th>14043030</th>\n",
       "      <td>0</td>\n",
       "      <td>1.91</td>\n",
       "      <td>1.094451e+07</td>\n",
       "      <td>72000.0</td>\n",
       "      <td>1.0</td>\n",
       "      <td>0.003799</td>\n",
       "      <td>3274.571872</td>\n",
       "      <td>1.365943e+09</td>\n",
       "      <td>66348.698907</td>\n",
       "      <td>4.493323</td>\n",
       "      <td>2.798343e+07</td>\n",
       "      <td>2</td>\n",
       "      <td>2</td>\n",
       "      <td>0</td>\n",
       "      <td>0</td>\n",
       "      <td>0</td>\n",
       "      <td>1</td>\n",
       "      <td>0</td>\n",
       "      <td>0</td>\n",
       "      <td>0</td>\n",
       "    </tr>\n",
       "    <tr>\n",
       "      <th>3466558</th>\n",
       "      <td>0</td>\n",
       "      <td>38.09</td>\n",
       "      <td>6.008304e+09</td>\n",
       "      <td>3600.0</td>\n",
       "      <td>4.0</td>\n",
       "      <td>185.512542</td>\n",
       "      <td>9139.868182</td>\n",
       "      <td>6.336918e+09</td>\n",
       "      <td>16364.357704</td>\n",
       "      <td>5.907272</td>\n",
       "      <td>1.832671e+04</td>\n",
       "      <td>3</td>\n",
       "      <td>1</td>\n",
       "      <td>0</td>\n",
       "      <td>0</td>\n",
       "      <td>0</td>\n",
       "      <td>0</td>\n",
       "      <td>1</td>\n",
       "      <td>0</td>\n",
       "      <td>0</td>\n",
       "    </tr>\n",
       "    <tr>\n",
       "      <th>2993338</th>\n",
       "      <td>0</td>\n",
       "      <td>14669.39</td>\n",
       "      <td>1.521558e+10</td>\n",
       "      <td>345600.0</td>\n",
       "      <td>12.0</td>\n",
       "      <td>206021.290481</td>\n",
       "      <td>9139.868182</td>\n",
       "      <td>6.336918e+09</td>\n",
       "      <td>16364.357704</td>\n",
       "      <td>5.907272</td>\n",
       "      <td>1.832671e+04</td>\n",
       "      <td>3</td>\n",
       "      <td>1</td>\n",
       "      <td>0</td>\n",
       "      <td>0</td>\n",
       "      <td>0</td>\n",
       "      <td>0</td>\n",
       "      <td>1</td>\n",
       "      <td>0</td>\n",
       "      <td>0</td>\n",
       "    </tr>\n",
       "  </tbody>\n",
       "</table>\n",
       "</div>"
      ],
      "text/plain": [
       "          failed       cpu       maxvmem   reqTime  reqMem            mem  \\\n",
       "6380784        0     72.50  1.508639e+08    7200.0     1.0       8.675896   \n",
       "1122535        0    186.02  2.637828e+09   10800.0     1.0      43.929626   \n",
       "14043030       0      1.91  1.094451e+07   72000.0     1.0       0.003799   \n",
       "3466558        0     38.09  6.008304e+09    3600.0     4.0     185.512542   \n",
       "2993338        0  14669.39  1.521558e+10  345600.0    12.0  206021.290481   \n",
       "\n",
       "                 aCPU      aMaxvmem      aReqtime   aReqmem          aMem  id  \\\n",
       "6380784    761.349945  2.033148e+08   8128.816356  1.339869  3.130181e+03   0   \n",
       "1122535   1585.170160  3.451968e+09  38385.321212  1.001895  2.674659e+03   1   \n",
       "14043030  3274.571872  1.365943e+09  66348.698907  4.493323  2.798343e+07   2   \n",
       "3466558   9139.868182  6.336918e+09  16364.357704  5.907272  1.832671e+04   3   \n",
       "2993338   9139.868182  6.336918e+09  16364.357704  5.907272  1.832671e+04   3   \n",
       "\n",
       "          project_id  people_Faculty  people_Graduate  \\\n",
       "6380784            0               0                0   \n",
       "1122535            1               0                1   \n",
       "14043030           2               0                0   \n",
       "3466558            1               0                0   \n",
       "2993338            1               0                0   \n",
       "\n",
       "          people_PostDoctoralResearcher  people_ResearchAssociate  \\\n",
       "6380784                               0                         0   \n",
       "1122535                               0                         0   \n",
       "14043030                              0                         1   \n",
       "3466558                               0                         0   \n",
       "2993338                               0                         0   \n",
       "\n",
       "          people_Staff  people_Undergraduate  people_Unknowing  \n",
       "6380784              0                     0                 1  \n",
       "1122535              0                     0                 0  \n",
       "14043030             0                     0                 0  \n",
       "3466558              1                     0                 0  \n",
       "2993338              1                     0                 0  "
      ]
     },
     "execution_count": 58,
     "metadata": {},
     "output_type": "execute_result"
    }
   ],
   "source": [
    "# this allows us to see the first 5 rows of the dataframe and manually inspect if it looks ready to be use used for ML\n",
    "fdf.head(5)"
   ]
  },
  {
   "cell_type": "code",
   "execution_count": 59,
   "metadata": {},
   "outputs": [
    {
     "name": "stdout",
     "output_type": "stream",
     "text": [
      "Wall time: 22.9 s\n"
     ]
    }
   ],
   "source": [
    "%%time\n",
    "# here we are going to write the data out to a csv file.\n",
    "fdf.to_csv('experiment1.csv')"
   ]
  },
  {
   "cell_type": "code",
   "execution_count": 60,
   "metadata": {},
   "outputs": [],
   "source": [
    "#===============start regression==============="
   ]
  },
  {
   "cell_type": "code",
   "execution_count": 61,
   "metadata": {},
   "outputs": [],
   "source": [
    "# Here we are going to import all of the different models that will be used to run regression algorithms on the data set\n",
    "# all of these belong to sklearn. \n",
    "\n",
    "from sklearn import model_selection\n",
    "from sklearn.metrics import r2_score\n",
    "from sklearn import linear_model\n",
    "from sklearn import preprocessing\n",
    "\n",
    "from sklearn.linear_model import LinearRegression\n",
    "\n",
    "from sklearn.linear_model import Lasso\n",
    "from sklearn.linear_model import LassoCV\n",
    "from sklearn.linear_model import LassoLars\n",
    "from sklearn.linear_model import LassoLarsCV\n",
    "from sklearn.linear_model import LassoLarsIC\n",
    "\n",
    "from sklearn.linear_model import ElasticNet\n",
    "from sklearn.linear_model import ElasticNetCV\n",
    "\n",
    "from sklearn.linear_model import Ridge\n",
    "from sklearn.linear_model import RidgeCV\n",
    "\n",
    "from sklearn.linear_model import OrthogonalMatchingPursuit\n",
    "from sklearn.linear_model import OrthogonalMatchingPursuitCV\n",
    "\n",
    "from sklearn.linear_model import MultiTaskLasso\n",
    "from sklearn.linear_model import MultiTaskLassoCV\n",
    "from sklearn.linear_model import MultiTaskElasticNet\n",
    "from sklearn.linear_model import MultiTaskElasticNetCV\n",
    "from sklearn.linear_model import ARDRegression\n",
    "\n",
    "from sklearn.neighbors import KNeighborsRegressor\n",
    "from sklearn.tree import DecisionTreeRegressor\n",
    "from sklearn.svm import SVR"
   ]
  },
  {
   "cell_type": "code",
   "execution_count": 62,
   "metadata": {},
   "outputs": [],
   "source": [
    "# we are going to create a list of models that we will add all of the different SKlearn models we will run so we can\n",
    "# easily loop and run all the different tests.\n",
    "\n",
    "models = []\n",
    "models.append(('LR', LinearRegression()))\n",
    "\n",
    "#models.append(('LassoCV', LassoCV()))\n",
    "#models.append(('LassoLarsCV', LassoLarsCV()))\n",
    "models.append(('LassoLarsIC', LassoLarsIC()))\n",
    "\n",
    "models.append(('ElasticNetCV', ElasticNetCV()))\n",
    "\n",
    "models.append(('Ridge', Ridge()))\n",
    "#models.append(('RidgeCV', RidgeCV()))\n",
    "\n",
    "#models.append(('OrthogonalMatchingPursuitCV', OrthogonalMatchingPursuitCV()))\n",
    "\n",
    "#models.append(('KNN', KNeighborsRegressor()))\n",
    "models.append(('CART', DecisionTreeRegressor()))\n",
    "##models.append(('SVR', SVR()))"
   ]
  },
  {
   "cell_type": "code",
   "execution_count": 63,
   "metadata": {},
   "outputs": [
    {
     "data": {
      "text/plain": [
       "(1000001, 18)"
      ]
     },
     "execution_count": 63,
     "metadata": {},
     "output_type": "execute_result"
    }
   ],
   "source": [
    "# this is going to be our base 'x' data set\n",
    "xt = fdf[['failed', 'cpu', 'maxvmem', 'reqMem', 'reqTime', 'id', 'project_id', \\\n",
    "          'aCPU', 'aMaxvmem', 'aReqtime', 'aReqmem', \\\n",
    "       'people_Faculty', 'people_Graduate', 'people_PostDoctoralResearcher', \\\n",
    "       'people_ResearchAssociate', 'people_Staff', 'people_Undergraduate', \\\n",
    "       'people_Unknowing']]\n",
    "xt.shape"
   ]
  },
  {
   "cell_type": "code",
   "execution_count": 64,
   "metadata": {},
   "outputs": [
    {
     "data": {
      "text/plain": [
       "pandas.core.frame.DataFrame"
      ]
     },
     "execution_count": 64,
     "metadata": {},
     "output_type": "execute_result"
    }
   ],
   "source": [
    "# same as above but this data set is centered around memory\n",
    "xt = fdf[['maxvmem', 'reqMem', 'id', 'project_id', \\\n",
    "       'people_Faculty', 'people_Graduate', 'people_PostDoctoralResearcher', \\\n",
    "       'people_ResearchAssociate', 'people_Staff', 'people_Undergraduate', \\\n",
    "       'people_Unknowing', 'aMaxvmem', 'aReqmem','mem']]\n",
    "xt.shape\n",
    "type(fdf)"
   ]
  },
  {
   "cell_type": "code",
   "execution_count": 65,
   "metadata": {},
   "outputs": [
    {
     "data": {
      "text/plain": [
       "pandas.core.frame.DataFrame"
      ]
     },
     "execution_count": 65,
     "metadata": {},
     "output_type": "execute_result"
    }
   ],
   "source": [
    "# same as above this data set is centered around cpu\n",
    "xt = fdf[['cpu', 'reqTime', 'id', 'project_id', \\\n",
    "       'people_Faculty', 'people_Graduate', 'people_PostDoctoralResearcher', \\\n",
    "       'people_ResearchAssociate', 'people_Staff', 'people_Undergraduate', \\\n",
    "       'people_Unknowing', 'aMem', 'aCPU','aReqtime']]\n",
    "xt.shape\n",
    "type(xt)"
   ]
  },
  {
   "cell_type": "code",
   "execution_count": 66,
   "metadata": {},
   "outputs": [],
   "source": [
    "# scikit learn machine learning algorithms can't use the raw Pandas dataframe format. \n",
    "# As it says in the documentation for scikit learn, \"standardization of a dataset is a common requirement for many machine learning estimators\n",
    "# they might behave badly if the individualk feature do not more or less look like standard normally distributed data.\"\n",
    "# http://scikit-learn.org/stable/modules/generated/sklearn.preprocessing.StandardScaler.html\n",
    "type(xt)\n",
    "a = xt.sample(frac=0.1) # only added this line because for some reason it was changing XT to a ndarray which doesn't have the \n",
    "# attribute sample which was crashing the code.\n",
    "xt = preprocessing.StandardScaler().fit_transform(a)"
   ]
  },
  {
   "cell_type": "code",
   "execution_count": 67,
   "metadata": {},
   "outputs": [],
   "source": [
    "# we are going to use python list splicing to create data sets for x and y.\n",
    "\n",
    "#array = xt.values\n",
    "x = xt[:,1:16]\n",
    "y = xt[:, 0]"
   ]
  },
  {
   "cell_type": "code",
   "execution_count": 68,
   "metadata": {},
   "outputs": [],
   "source": [
    "# we are going to run a built in model selection to create x's traning and validation set as well as y's. \n",
    "x_train, x_validation, y_train, y_validation = model_selection.train_test_split(x, y, test_size=0.2, random_state=7)"
   ]
  },
  {
   "cell_type": "code",
   "execution_count": 69,
   "metadata": {},
   "outputs": [
    {
     "name": "stdout",
     "output_type": "stream",
     "text": [
      "-0.028431947070002073\n",
      "Wall time: 181 ms\n"
     ]
    }
   ],
   "source": [
    "%%time\n",
    "# we will run Decision tree regressor\n",
    "# the information about this function and what it does can be found on\n",
    "# http://scikit-learn.org/stable/modules/generated/sklearn.tree.DecisionTreeRegressor.html\n",
    "\n",
    "#m = Lasso(alpha=0.15, fit_intercept=False, tol=0.00000000000001, max_iter=1000000, positive=True)\n",
    "#m = DecisionTreeRegressor()\n",
    "m = DecisionTreeRegressor()\n",
    "m.fit(x_train, y_train)\n",
    "print(r2_score(y_validation, m.predict(x_validation)))"
   ]
  },
  {
   "cell_type": "code",
   "execution_count": 70,
   "metadata": {},
   "outputs": [
    {
     "name": "stdout",
     "output_type": "stream",
     "text": [
      "LR: -0.690401 (0.741055)\n",
      "time:  0.039958953857421875\n",
      "r2:  0.05615394929392514\n",
      "LassoLarsIC: -0.690003 (0.740666)\n",
      "time:  0.04795074462890625\n",
      "r2:  0.05629204181192282\n",
      "ElasticNetCV: -0.679928 (0.741632)\n",
      "time:  0.5963897705078125\n",
      "r2:  0.05178995107725848\n",
      "Ridge: -0.690408 (0.741046)\n",
      "time:  0.020978927612304688\n",
      "r2:  0.05623388937845164\n",
      "CART: -0.809763 (0.738664)\n",
      "time:  0.146867036819458\n",
      "r2:  -0.028607533222381853\n"
     ]
    }
   ],
   "source": [
    "# here comes the loop that will run all of the models that we had added to the model. We will print out the reults of the time\n",
    "# the r2 and algorithm scores.\n",
    "\n",
    "results = []\n",
    "names = []\n",
    "r2 = []\n",
    "times = []\n",
    "for name, model in models:\n",
    " \n",
    "  kfold = model_selection.KFold(n_splits=10, random_state=7)\n",
    "  cv_results = model_selection.cross_val_score(model, x_train, y_train, cv=kfold, scoring='neg_mean_squared_error')\n",
    "   \n",
    "  results.append(cv_results)\n",
    "  names.append(name)\n",
    "  msg = \"%s: %f (%f)\" % (name, cv_results.mean(), cv_results.std())\n",
    "  print(msg)\n",
    "  s = time.time()    \n",
    "  model.fit(x_train, y_train)\n",
    "  y_pred_test = model.predict(x_validation)\n",
    "  r2s = r2_score(y_validation, y_pred_test)\n",
    "  e = time.time()\n",
    "  t = e - s\n",
    "  times.append(t)\n",
    "  print('time: ', t)\n",
    "  r2.append(r2s)\n",
    "  print('r2: ', r2s)"
   ]
  },
  {
   "cell_type": "code",
   "execution_count": 71,
   "metadata": {},
   "outputs": [],
   "source": [
    "#===============end regression==============="
   ]
  },
  {
   "cell_type": "code",
   "execution_count": 72,
   "metadata": {},
   "outputs": [],
   "source": [
    "#=================start classification=================\n",
    "\n",
    "\n",
    "# The steps bellow are very similar to the ones above. I believe that it would be redundant if I were to explain procedure twice.\n",
    "# It would be a good excersise for the rest of the notebook for students to read thru the code and identify what they do. "
   ]
  },
  {
   "cell_type": "code",
   "execution_count": 73,
   "metadata": {},
   "outputs": [],
   "source": [
    "# Here we are going to import all of the different models that will be used to run classification algorithms on the data set\n",
    "# all of these belong to sklearn. \n",
    "\n",
    "from sklearn.linear_model import LogisticRegression\n",
    "from sklearn.tree import DecisionTreeClassifier\n",
    "from sklearn.neighbors import KNeighborsClassifier\n",
    "from sklearn.discriminant_analysis import LinearDiscriminantAnalysis\n",
    "from sklearn.naive_bayes import GaussianNB\n",
    "from sklearn.svm import SVC\n",
    "from sklearn.ensemble import RandomForestClassifier\n",
    "\n",
    "from sklearn.metrics import classification_report\n",
    "from sklearn.metrics import confusion_matrix\n",
    "from sklearn.metrics import accuracy_score\n"
   ]
  },
  {
   "cell_type": "code",
   "execution_count": 74,
   "metadata": {},
   "outputs": [
    {
     "data": {
      "text/plain": [
       "Index(['failed', 'cpu', 'maxvmem', 'reqTime', 'reqMem', 'mem', 'aCPU',\n",
       "       'aMaxvmem', 'aReqtime', 'aReqmem', 'aMem', 'id', 'project_id',\n",
       "       'people_Faculty', 'people_Graduate', 'people_PostDoctoralResearcher',\n",
       "       'people_ResearchAssociate', 'people_Staff', 'people_Undergraduate',\n",
       "       'people_Unknowing'],\n",
       "      dtype='object')"
      ]
     },
     "execution_count": 74,
     "metadata": {},
     "output_type": "execute_result"
    }
   ],
   "source": [
    "fdf.columns"
   ]
  },
  {
   "cell_type": "code",
   "execution_count": 75,
   "metadata": {},
   "outputs": [
    {
     "data": {
      "text/plain": [
       "(1000001, 15)"
      ]
     },
     "execution_count": 75,
     "metadata": {},
     "output_type": "execute_result"
    }
   ],
   "source": [
    "xt = fdf[['failed', 'reqTime', 'reqMem','id', 'project_id', \\\n",
    "          'aCPU', 'aReqtime', 'aReqmem', \\\n",
    "       'people_Faculty', 'people_Graduate', 'people_PostDoctoralResearcher', \\\n",
    "       'people_ResearchAssociate', 'people_Staff', 'people_Undergraduate', \\\n",
    "       'people_Unknowing']]\n",
    "xt.shape"
   ]
  },
  {
   "cell_type": "code",
   "execution_count": 76,
   "metadata": {},
   "outputs": [
    {
     "data": {
      "text/html": [
       "<div>\n",
       "<style scoped>\n",
       "    .dataframe tbody tr th:only-of-type {\n",
       "        vertical-align: middle;\n",
       "    }\n",
       "\n",
       "    .dataframe tbody tr th {\n",
       "        vertical-align: top;\n",
       "    }\n",
       "\n",
       "    .dataframe thead th {\n",
       "        text-align: right;\n",
       "    }\n",
       "</style>\n",
       "<table border=\"1\" class=\"dataframe\">\n",
       "  <thead>\n",
       "    <tr style=\"text-align: right;\">\n",
       "      <th></th>\n",
       "      <th>reqTime</th>\n",
       "      <th>reqMem</th>\n",
       "    </tr>\n",
       "  </thead>\n",
       "  <tbody>\n",
       "    <tr>\n",
       "      <th>6380784</th>\n",
       "      <td>7200.0</td>\n",
       "      <td>1.0</td>\n",
       "    </tr>\n",
       "    <tr>\n",
       "      <th>1122535</th>\n",
       "      <td>10800.0</td>\n",
       "      <td>1.0</td>\n",
       "    </tr>\n",
       "    <tr>\n",
       "      <th>14043030</th>\n",
       "      <td>72000.0</td>\n",
       "      <td>1.0</td>\n",
       "    </tr>\n",
       "  </tbody>\n",
       "</table>\n",
       "</div>"
      ],
      "text/plain": [
       "          reqTime  reqMem\n",
       "6380784    7200.0     1.0\n",
       "1122535   10800.0     1.0\n",
       "14043030  72000.0     1.0"
      ]
     },
     "execution_count": 76,
     "metadata": {},
     "output_type": "execute_result"
    }
   ],
   "source": [
    "xt.iloc[:,1:3].head(3)"
   ]
  },
  {
   "cell_type": "code",
   "execution_count": 77,
   "metadata": {},
   "outputs": [],
   "source": [
    "array = xt.values\n",
    "x = array[:,1:16]\n",
    "y = array[:, 0]"
   ]
  },
  {
   "cell_type": "code",
   "execution_count": 78,
   "metadata": {},
   "outputs": [],
   "source": [
    "x_train, x_validation, y_train, y_validation = model_selection.train_test_split(x, y, test_size=0.2, random_state=7)\n"
   ]
  },
  {
   "cell_type": "code",
   "execution_count": 79,
   "metadata": {},
   "outputs": [
    {
     "name": "stdout",
     "output_type": "stream",
     "text": [
      "0.9659301703491483\n",
      "[[189076    922]\n",
      " [  5892   4111]]\n",
      "             precision    recall  f1-score   support\n",
      "\n",
      "        0.0       0.97      1.00      0.98    189998\n",
      "        1.0       0.82      0.41      0.55     10003\n",
      "\n",
      "avg / total       0.96      0.97      0.96    200001\n",
      "\n",
      "Wall time: 11.4 s\n"
     ]
    }
   ],
   "source": [
    "%%time\n",
    "clf = RandomForestClassifier()\n",
    "clf.fit(x_train, y_train)\n",
    "predictions = clf.predict(x_validation)\n",
    "print(accuracy_score(y_validation, predictions))\n",
    "print(confusion_matrix(y_validation, predictions))\n",
    "print(classification_report(y_validation, predictions))\n"
   ]
  },
  {
   "cell_type": "code",
   "execution_count": 80,
   "metadata": {},
   "outputs": [
    {
     "name": "stdout",
     "output_type": "stream",
     "text": [
      "accuracy score:  0.9486302568487157\n",
      "LR: 0.949592 (0.000802)\n",
      "time:  178.42974495887756\n",
      "accuracy score:  0.9658701706491467\n",
      "CART: 0.966635 (0.000597)\n",
      "time:  47.95025396347046\n",
      "accuracy score:  0.9278103609481952\n",
      "NB: 0.928796 (0.001026)\n",
      "time:  7.238588333129883\n",
      "accuracy score:  0.9660151699241504\n",
      "RF: 0.966550 (0.000538)\n",
      "time:  126.09692049026489\n",
      "Wall time: 5min 59s\n"
     ]
    },
    {
     "data": {
      "image/png": "[encoded data removed]",
      "text/plain": [
       "<Figure size 1080x720 with 1 Axes>"
      ]
     },
     "metadata": {},
     "output_type": "display_data"
    }
   ],
   "source": [
    "%%time\n",
    "# prepare configuration for cross validation test harness\n",
    "seed = 7\n",
    "# prepare models\n",
    "models = []\n",
    "models.append(('LR', LogisticRegression()))\n",
    "#models.append(('LDA', LinearDiscriminantAnalysis()))\n",
    "#models.append(('KNN', KNeighborsClassifier()))\n",
    "models.append(('CART', DecisionTreeClassifier()))\n",
    "models.append(('NB', GaussianNB()))\n",
    "models.append(('RF', RandomForestClassifier()))\n",
    "#models.append(('SVM', SVC()))\n",
    "# evaluate each model in turn\n",
    "results = []\n",
    "names = []\n",
    "times = []\n",
    "scoring = 'accuracy'\n",
    "for name, model in models:\n",
    "    s = time.time()\n",
    "    kfold = model_selection.KFold(n_splits=10, random_state=seed)\n",
    "    cv_results = model_selection.cross_val_score(model, x, y, cv=kfold, scoring=scoring)\n",
    "    results.append(cv_results)\n",
    "    names.append(name)\n",
    "    msg = \"%s: %f (%f)\" % (name, cv_results.mean(), cv_results.std())\n",
    "    \n",
    "    model.fit(x_train, y_train)\n",
    "    predictions = model.predict(x_validation)\n",
    "    print('accuracy score: ', accuracy_score(y_validation, predictions))\n",
    "    e = time.time()\n",
    "    print(msg)\n",
    "    times.append(e - s)\n",
    "    print('time: ',e - s)\n",
    "    s = 0\n",
    "    e = 0\n",
    "# boxplot algorithm comparison\n",
    "fig = plt.figure(figsize=(15,10))\n",
    "fig.suptitle('Algorithm Comparison')\n",
    "ax = fig.add_subplot(111)\n",
    "plt.boxplot(results)\n",
    "ax.set_xticklabels(names)\n",
    "#plt.savefig('classification1m.jpg')\n",
    "#plt.show()"
   ]
  },
  {
   "cell_type": "code",
   "execution_count": null,
   "metadata": {},
   "outputs": [],
   "source": []
  }
 ],
 "metadata": {
  "kernelspec": {
   "display_name": "Python 3",
   "language": "python",
   "name": "python3"
  },
  "language_info": {
   "codemirror_mode": {
    "name": "ipython",
    "version": 3
   },
   "file_extension": ".py",
   "mimetype": "text/x-python",
   "name": "python",
   "nbconvert_exporter": "python",
   "pygments_lexer": "ipython3",
   "version": "3.8.5"
  }
 },
 "nbformat": 4,
 "nbformat_minor": 2
}
